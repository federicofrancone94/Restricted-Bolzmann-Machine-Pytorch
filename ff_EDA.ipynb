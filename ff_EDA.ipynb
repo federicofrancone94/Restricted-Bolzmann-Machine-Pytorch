{
 "cells": [
  {
   "cell_type": "code",
   "execution_count": 1,
   "metadata": {},
   "outputs": [
    {
     "name": "stdout",
     "output_type": "stream",
     "text": [
      "Successfully imported Spark Context and Spark Configuration\n"
     ]
    }
   ],
   "source": [
    "import os\n",
    "os.chdir(\"..\")\n",
    "from src.SparkEnv import sparkSess\n",
    "import pyspark.sql.functions as F\n",
    "from pyspark.sql import DataFrameStatFunctions as statFunc\n",
    "import pandas as pd"
   ]
  },
  {
   "cell_type": "code",
   "execution_count": 2,
   "metadata": {},
   "outputs": [],
   "source": [
    "from pyspark.sql.functions import UserDefinedFunction\n",
    "from pyspark.sql.types import StructType, StructField, StringType, IntegerType, DoubleType, FloatType\n",
    "from pyspark.sql.functions import UserDefinedFunction, udf, struct\n",
    "from pyspark.sql.functions import col\n",
    "import numpy as np\n",
    "\n",
    "import matplotlib.pyplot as plt\n",
    "import seaborn as sns\n",
    "\n",
    "sns.set()"
   ]
  },
  {
   "cell_type": "code",
   "execution_count": 3,
   "metadata": {},
   "outputs": [],
   "source": [
    "def title_ticks_ecc(title, xlabel, ylabel, new_fig= True , figsize= (10,6), title_size=18):\n",
    "    if new_fig== True:\n",
    "        plt.figure(figsize=figsize)\n",
    "        \n",
    "    plt.title(title, color= 'xkcd:pale red', fontsize= title_size, pad= 13, fontweight= 'bold')\n",
    "    plt.xlabel(xlabel, color='xkcd:pale red', fontsize= 14, fontweight= 'bold')\n",
    "    plt.ylabel(ylabel, color= 'xkcd:pale red', fontsize= 14, fontweight= 'bold')\n",
    "    plt.xticks(fontsize=12, color= 'xkcd:cadet blue')\n",
    "    plt.yticks(fontsize=12, color= 'xkcd:cadet blue')"
   ]
  },
  {
   "cell_type": "markdown",
   "metadata": {},
   "source": [
    "### File Info\n",
    "\n",
    "We copy these files from S3 into HDFS, we have the following files\n",
    "\n",
    "- `feature_data/`\n",
    "   Contains feature value mappings, to be converted into sparse array\n",
    "- `featureIndex.csv`\n",
    "   Contains feature_indices + descriptions\n",
    "- `user_requests_10mil/`\n",
    "   Contains ALL 10 Million RFI Ids (important to note that some of these will not be in feature_data, as those records have no data)\n",
    "- `md5_match_data.csv`\n",
    "   Contains md5 -> RFI mappings from datacloud team\n"
   ]
  },
  {
   "cell_type": "code",
   "execution_count": 4,
   "metadata": {},
   "outputs": [],
   "source": [
    "pre = \"hdfs:///input\""
   ]
  },
  {
   "cell_type": "code",
   "execution_count": 5,
   "metadata": {},
   "outputs": [
    {
     "name": "stdout",
     "output_type": "stream",
     "text": [
      "Found 4 items\n",
      "-rw-r--r--   1 hadoop hadoop    6260261 2020-07-28 11:17 hdfs:///input/featureIndex.csv\n",
      "drwxr-xr-x   - hadoop hadoop          0 2020-07-28 11:16 hdfs:///input/feature_data\n",
      "-rw-r--r--   1 hadoop hadoop 1054158304 2020-07-28 11:17 hdfs:///input/md5_match_data.csv\n",
      "drwxr-xr-x   - hadoop hadoop          0 2020-07-28 11:17 hdfs:///input/user_requests_10mil\n"
     ]
    }
   ],
   "source": [
    "!hadoop fs -ls $pre/"
   ]
  },
  {
   "cell_type": "markdown",
   "metadata": {},
   "source": [
    "### Loading dataframe of ALL RFI IDs\n",
    "\n",
    "File contains\n",
    "- RFI ID\n",
    "- Request ID (we do not need this column)"
   ]
  },
  {
   "cell_type": "code",
   "execution_count": 6,
   "metadata": {},
   "outputs": [
    {
     "name": "stdout",
     "output_type": "stream",
     "text": [
      "root\n",
      " |-- RFI: string (nullable = true)\n",
      "\n"
     ]
    }
   ],
   "source": [
    "all_rfi_DF = \\\n",
    "  sparkSess.read.csv(f\"{pre}/user_requests_10mil\", sep=\"\\t\") \\\n",
    "           .toDF(*[\"RFI\", \"Request ID\"]) \\\n",
    "           .select(\"RFI\")\n",
    "\n",
    "all_rfi_DF.printSchema()"
   ]
  },
  {
   "cell_type": "markdown",
   "metadata": {},
   "source": [
    "### Loading dataframe of MD5 -> RFI Mappings\n",
    "\n",
    "File contains\n",
    "- RFI ID\n",
    "- Request ID (we do not need this column)"
   ]
  },
  {
   "cell_type": "code",
   "execution_count": 7,
   "metadata": {},
   "outputs": [
    {
     "name": "stdout",
     "output_type": "stream",
     "text": [
      "root\n",
      " |-- RFI: string (nullable = true)\n",
      " |-- MD5: string (nullable = true)\n",
      "\n"
     ]
    }
   ],
   "source": [
    "md5_rfi_mappings_DF = \\\n",
    "  sparkSess.read.csv(f\"{pre}/md5_match_data.csv/\") \\\n",
    "           .toDF(*[\"RFI\", \"MD5\"])\n",
    "    \n",
    "md5_rfi_mappings_DF.printSchema()"
   ]
  },
  {
   "cell_type": "markdown",
   "metadata": {},
   "source": [
    "### Joining Records "
   ]
  },
  {
   "cell_type": "code",
   "execution_count": 8,
   "metadata": {},
   "outputs": [
    {
     "name": "stdout",
     "output_type": "stream",
     "text": [
      "+-------------------+--------------------+\n",
      "|                RFI|                 MD5|\n",
      "+-------------------+--------------------+\n",
      "|1001558335910283967|a96b6d100ba9de09e...|\n",
      "|1001558335910283967|bf3558b830afd37f4...|\n",
      "|1001558335910283967|30df85ec60751d05b...|\n",
      "|1001558335910283967|12842a3ce3e3ed472...|\n",
      "|1001558335916624266|780153f39b9c3cc34...|\n",
      "|1001558335916624266|a82a908be803a615f...|\n",
      "|1001558335916624266|1e9b88cfda2c212ef...|\n",
      "|1001558335916624266|20348bee6be5afa00...|\n",
      "|1001558335916624266|3d9d18dcc821e481d...|\n",
      "|1001558335916624266|abe024ad5858bbee6...|\n",
      "+-------------------+--------------------+\n",
      "\n"
     ]
    }
   ],
   "source": [
    "joined_records_DF = \\\n",
    "  all_rfi_DF.join(md5_rfi_mappings_DF, on=\"RFI\", how=\"inner\")\n",
    "\n",
    "joined_records_DF.limit(10) \\\n",
    "                 .show()"
   ]
  },
  {
   "cell_type": "markdown",
   "metadata": {},
   "source": [
    "### Calculating Match Rate (ALL RFI)\n",
    "- Look at distinct RFI, Distinct MD5s and get approx match rate"
   ]
  },
  {
   "cell_type": "code",
   "execution_count": 9,
   "metadata": {},
   "outputs": [
    {
     "data": {
      "text/html": [
       "<div>\n",
       "<style scoped>\n",
       "    .dataframe tbody tr th:only-of-type {\n",
       "        vertical-align: middle;\n",
       "    }\n",
       "\n",
       "    .dataframe tbody tr th {\n",
       "        vertical-align: top;\n",
       "    }\n",
       "\n",
       "    .dataframe thead th {\n",
       "        text-align: right;\n",
       "    }\n",
       "</style>\n",
       "<table border=\"1\" class=\"dataframe\">\n",
       "  <thead>\n",
       "    <tr style=\"text-align: right;\">\n",
       "      <th></th>\n",
       "      <th>Unique RFIs ALL</th>\n",
       "      <th>Match Rate - ALL</th>\n",
       "    </tr>\n",
       "  </thead>\n",
       "  <tbody>\n",
       "    <tr>\n",
       "      <th>0</th>\n",
       "      <td>2495277</td>\n",
       "      <td>0.249528</td>\n",
       "    </tr>\n",
       "  </tbody>\n",
       "</table>\n",
       "</div>"
      ],
      "text/plain": [
       "   Unique RFIs ALL  Match Rate - ALL\n",
       "0          2495277          0.249528"
      ]
     },
     "execution_count": 9,
     "metadata": {},
     "output_type": "execute_result"
    }
   ],
   "source": [
    "summary_all_RFI_DF = \\\n",
    "  joined_records_DF.agg(F.countDistinct(\"RFI\").alias(\"Unique RFIs ALL\")) \\\n",
    "                   .withColumn(\"Match Rate - ALL\", F.col(\"Unique RFIs ALL\") / F.lit(10e6)) \\\n",
    "                   .toPandas()\n",
    "\n",
    "summary_all_RFI_DF    "
   ]
  },
  {
   "cell_type": "markdown",
   "metadata": {},
   "source": [
    "### Calculating Match Rate (RFI with DSP Data)\n",
    "- Now we will look at percentage of RFIs With DSP DATA\n"
   ]
  },
  {
   "cell_type": "code",
   "execution_count": 10,
   "metadata": {},
   "outputs": [
    {
     "name": "stdout",
     "output_type": "stream",
     "text": [
      "Total Number of Unique MD5s with DSP Data Available 609954281\n"
     ]
    },
    {
     "data": {
      "text/html": [
       "<div>\n",
       "<style scoped>\n",
       "    .dataframe tbody tr th:only-of-type {\n",
       "        vertical-align: middle;\n",
       "    }\n",
       "\n",
       "    .dataframe tbody tr th {\n",
       "        vertical-align: top;\n",
       "    }\n",
       "\n",
       "    .dataframe thead th {\n",
       "        text-align: right;\n",
       "    }\n",
       "</style>\n",
       "<table border=\"1\" class=\"dataframe\">\n",
       "  <thead>\n",
       "    <tr style=\"text-align: right;\">\n",
       "      <th></th>\n",
       "      <th>Unique RFIs W/ DSP Data</th>\n",
       "      <th>Match Rate - W/ DSP Data</th>\n",
       "    </tr>\n",
       "  </thead>\n",
       "  <tbody>\n",
       "    <tr>\n",
       "      <th>0</th>\n",
       "      <td>2471549</td>\n",
       "      <td>0.004052</td>\n",
       "    </tr>\n",
       "  </tbody>\n",
       "</table>\n",
       "</div>"
      ],
      "text/plain": [
       "   Unique RFIs W/ DSP Data  Match Rate - W/ DSP Data\n",
       "0                  2471549                  0.004052"
      ]
     },
     "execution_count": 10,
     "metadata": {},
     "output_type": "execute_result"
    }
   ],
   "source": [
    "## Small trick to give column names\n",
    "\n",
    "rfi_in_feature_data_DF = \\\n",
    "  sparkSess.read.csv(f\"{pre}/feature_data/\") \\\n",
    "           .toDF(*[\"RFI\", \"FeatureData\", \"FeatureValue\"]) \\\n",
    "           .dropDuplicates() \n",
    "\n",
    "total_count = rfi_in_feature_data_DF.count()\n",
    "print(\"Total Number of Unique MD5s with DSP Data Available\", total_count)\n",
    "\n",
    "\n",
    "rfi_with_md5 = \\\n",
    "          rfi_in_feature_data_DF.join(md5_rfi_mappings_DF, on='RFI', how='inner')\n",
    "\n",
    "\n",
    "summary_RFI_WITH_DATA_DF= rfi_with_md5.agg(F.countDistinct(\"RFI\").alias(\"Unique RFIs W/ DSP Data\")) \\\n",
    "                        .withColumn(\"Match Rate - W/ DSP Data\", F.col(\"Unique RFIs W/ DSP Data\")/total_count)  \\\n",
    "                        .toPandas()\n",
    "\n",
    "summary_RFI_WITH_DATA_DF\n",
    "\n",
    "# pd.concat([summary_RFI_WITH_DATA_DF, summary_all_RFI_DF], axis='columns').to_markdown()"
   ]
  },
  {
   "cell_type": "markdown",
   "metadata": {},
   "source": [
    "### Looking at Distribution of Mappings of RFI to MD5: \n",
    "\n",
    "- Looks like most RFIs have SEVERAL md5s mapped to them"
   ]
  },
  {
   "cell_type": "code",
   "execution_count": 11,
   "metadata": {},
   "outputs": [
    {
     "data": {
      "text/plain": [
       "[5.0, 10.0, 10.0]"
      ]
     },
     "execution_count": 11,
     "metadata": {},
     "output_type": "execute_result"
    }
   ],
   "source": [
    "num_MD5_DF = \\\n",
    "  joined_records_DF.groupby(\"RFI\") \\\n",
    "                   .agg(F.countDistinct(\"MD5\").alias(\"Num MD5 Per RFI\"))\n",
    "\n",
    "       \n",
    "num_MD5_DF.approxQuantile(\"Num MD5 Per RFI\", [.25,.5,.75], 0)"
   ]
  },
  {
   "cell_type": "markdown",
   "metadata": {},
   "source": [
    "### Looking at Distribution of Mappings from MD5 to RFI\n",
    "\n",
    "- When looking at the reverse, we see that most MD5s only have ONE RFI mapped to them."
   ]
  },
  {
   "cell_type": "code",
   "execution_count": null,
   "metadata": {},
   "outputs": [],
   "source": [
    "num_RFI_DF = \\\n",
    "  joined_records_DF.groupby(\"MD5\") \\\n",
    "                   .agg(F.countDistinct(\"RFI\").alias(\"Num RFI Per MD5\")) \\\n",
    "\n",
    "#added .9 to see if ensure records have multiple\n",
    "num_RFI_DF.approxQuantile(\"Num RFI Per MD5\", [.25,.5,.75],0)"
   ]
  },
  {
   "cell_type": "markdown",
   "metadata": {},
   "source": [
    "### Frequency-based analysis: checking how many features would be removed at varying threshold"
   ]
  },
  {
   "cell_type": "code",
   "execution_count": 50,
   "metadata": {},
   "outputs": [],
   "source": [
    "## NO NEED, column names already assigned\n",
    "\n",
    "\n",
    "# mapping_cols= {  \n",
    "#               '_c0': 'RFI',\n",
    "#              '_c1': 'FeatureData',\n",
    "#              '_c2': 'FeatureValue'}\n",
    "\n",
    "# for col_name in mapping_cols:\n",
    "#       rfi_with_md5= rfi_with_md5.withColumnRenamed(col_name, mapping_cols[col_name])"
   ]
  },
  {
   "cell_type": "code",
   "execution_count": null,
   "metadata": {},
   "outputs": [],
   "source": [
    "## Dropping duplicates due to the join (THIS IS WAY TOO SLOW!!)\n",
    "\n",
    "# relevant_rfi_set = set(list(rfi_with_md5.select('RFI').distinct().toPandas()['RFI'].values))\n",
    "# rfi_with_md5 = rfi_in_feature_data_DF.filter(col('RFI').isin(relevant_rfi_set))"
   ]
  },
  {
   "cell_type": "code",
   "execution_count": 47,
   "metadata": {},
   "outputs": [
    {
     "data": {
      "text/plain": [
       "609954281"
      ]
     },
     "execution_count": 47,
     "metadata": {},
     "output_type": "execute_result"
    }
   ],
   "source": [
    "##### Other approach, much faster\n",
    "\n",
    "ONLY_RFI_WITH_MD5 = False  # --> FOR NOW SKIPING THIS STEP: WE WORK ON ALL RFIs \n",
    "\n",
    "\n",
    "if ONLY_RFI_WITH_MD5 is True:\n",
    "\n",
    "\n",
    "    rfi_in_feature_data_DF.createOrReplaceTempView(\"all_rfi\")\n",
    "    rfi_with_md5.createOrReplaceTempView(\"relevant_rfi\")\n",
    "\n",
    "\n",
    "    ## Taking only RFIs for which exists at least a MD5 \n",
    "    rfi_with_md5_final = sparkSess.sql(\"SELECT * \\\n",
    "                                        FROM all_rfi AS A    \\\n",
    "                                        WHERE A.RFI IN (SELECT RFI from relevant_rfi)\")\n",
    "    \n",
    "    ### I must have less data now, since I removed the RFI without MD5\n",
    "    assert(rfi_in_feature_data_DF.count() > rfi_with_md5_final.count())\n",
    "\n",
    "\n",
    "else:\n",
    "    rfi_with_md5_final= rfi_in_feature_data_DF\n",
    "\n",
    "\n",
    "    \n",
    "rfi_with_md5_final.count()"
   ]
  },
  {
   "cell_type": "code",
   "execution_count": 48,
   "metadata": {},
   "outputs": [
    {
     "name": "stdout",
     "output_type": "stream",
     "text": [
      "+-------------------+-----------+------------+\n",
      "|                RFI|FeatureData|FeatureValue|\n",
      "+-------------------+-----------+------------+\n",
      "|2339690379464055637|      73463|         1.0|\n",
      "|2339690379464055637|       4106|         1.0|\n",
      "| 785667041688333971|      62606|         1.0|\n",
      "| 785667041688333971|      10198|         1.0|\n",
      "|                 -3|      41084|         1.0|\n",
      "|1604759211138415998|      84457|         1.0|\n",
      "|1604759211138415998|       7183|         1.0|\n",
      "|1604759211138415998|      66815|         1.0|\n",
      "|2339971853560503937|      88051|         1.0|\n",
      "|2827015835580892361|      86246|         1.0|\n",
      "| 781163441030308167|      23079|         1.0|\n",
      "|1991787305125980208|       4355|         1.0|\n",
      "|1648950788504470285|      39643|         1.0|\n",
      "| 959337092075575881|      81459|         1.0|\n",
      "|8508968658018156499|      92286|         1.0|\n",
      "| 767652642365707799|      18613|         1.0|\n",
      "|2295336441816022299|      39643|         1.0|\n",
      "|1040683385300536358|      86913|         1.0|\n",
      "|1040683385300536358|      76429|         1.0|\n",
      "|2809753592049335693|      84746|         1.0|\n",
      "+-------------------+-----------+------------+\n",
      "only showing top 20 rows\n",
      "\n"
     ]
    }
   ],
   "source": [
    "rfi_with_md5_final.persist()    # to save it in memory, avoiding\n",
    "\n",
    "rfi_with_md5_final.show()"
   ]
  },
  {
   "cell_type": "code",
   "execution_count": 49,
   "metadata": {},
   "outputs": [
    {
     "name": "stdout",
     "output_type": "stream",
     "text": [
      "Number of unique features for the 2.5 M relevant RFIs is:  94113\n"
     ]
    }
   ],
   "source": [
    "print('Number of unique features for the 7.5 M relevant RFIs is: ', rfi_with_md5_final.select('FeatureData').distinct().count())"
   ]
  },
  {
   "cell_type": "code",
   "execution_count": 50,
   "metadata": {},
   "outputs": [
    {
     "name": "stdout",
     "output_type": "stream",
     "text": [
      "+-------------------+-----------+----------------+\n",
      "|                RFI|FeatureData|Feat_Redoundancy|\n",
      "+-------------------+-----------+----------------+\n",
      "|                 -3|      67442|             637|\n",
      "|                 -3|      12839|             637|\n",
      "|                 -3|      69370|             637|\n",
      "|                 -3|       1199|             574|\n",
      "|                 -3|      69540|             574|\n",
      "|                 -3|       8250|             574|\n",
      "|                 -3|       5333|             461|\n",
      "|                 -3|      52192|             461|\n",
      "|                 -3|       3400|             461|\n",
      "|                 -3|      11632|             405|\n",
      "|                 -3|      39536|             405|\n",
      "|                 -3|      45652|             405|\n",
      "|                 -3|      41931|             229|\n",
      "|                 -3|      73844|             229|\n",
      "|                 -3|       4261|             229|\n",
      "|                 -3|      36693|             181|\n",
      "|                 -3|      18685|             181|\n",
      "|                 -3|       1109|             181|\n",
      "|2810598016888610978|       9124|               1|\n",
      "|                 -3|      45681|               1|\n",
      "+-------------------+-----------+----------------+\n",
      "only showing top 20 rows\n",
      "\n"
     ]
    }
   ],
   "source": [
    "### QUALITY CHECK: Max redoundancy should be 1: each RFI does not have duplicate features\n",
    "\n",
    "rfi_with_md5_final.groupBy(['RFI', 'FeatureData']).agg(F.count('FeatureValue').alias('Feat_Redoundancy')) \\\n",
    "                                .orderBy(col('Feat_Redoundancy').desc()).show() "
   ]
  },
  {
   "cell_type": "code",
   "execution_count": 51,
   "metadata": {},
   "outputs": [
    {
     "data": {
      "text/plain": [
       "7830889"
      ]
     },
     "execution_count": 51,
     "metadata": {},
     "output_type": "execute_result"
    }
   ],
   "source": [
    "final_n_RFI = rfi_with_md5_final.select('RFI').distinct().count()\n",
    "final_n_RFI       ## Correct, ~2.5M as before"
   ]
  },
  {
   "cell_type": "code",
   "execution_count": 52,
   "metadata": {},
   "outputs": [],
   "source": [
    "# rfi_in_feature_data.filter(col('RFI')!= -3).groupBy(['RFI', 'FeatureData']).agg(F.count('FeatureValue').alias('Feat_Redoundancy')) \\\n",
    "#                                 .orderBy(col('Feat_Redoundancy').desc()).show()"
   ]
  },
  {
   "cell_type": "code",
   "execution_count": 53,
   "metadata": {},
   "outputs": [
    {
     "name": "stdout",
     "output_type": "stream",
     "text": [
      "+-----------+-----------------+---------+--------------------+\n",
      "|FeatureData|Feature_frequency|AVG_value|           STD_value|\n",
      "+-----------+-----------------+---------+--------------------+\n",
      "|      76429|          7830889|      1.0|1.085105594037066...|\n",
      "|      90340|          7830889|      1.0|                 0.0|\n",
      "|      26836|          7830889|      1.0|                 0.0|\n",
      "|      41969|          7724763|      1.0|                 0.0|\n",
      "|      15841|          7619540|      1.0|                 0.0|\n",
      "|      82561|          7343313|      1.0|                 0.0|\n",
      "|      86209|          7343312|      1.0|                 0.0|\n",
      "|      32531|          6426512|      1.0|                 0.0|\n",
      "|      29264|          6173406|      1.0|1.085099562922718...|\n",
      "|      43734|          6019379|      1.0|                 0.0|\n",
      "+-----------+-----------------+---------+--------------------+\n",
      "only showing top 10 rows\n",
      "\n"
     ]
    }
   ],
   "source": [
    "feat_frequency= rfi_with_md5_final.groupBy(\"FeatureData\")   \\\n",
    "    .agg(F.count('RFI').alias('Feature_frequency'), F.mean('FeatureValue').alias('AVG_value'), F.stddev('FeatureValue').alias('STD_value') ) \\\n",
    "    .orderBy(col('Feature_frequency').desc())\n",
    "\n",
    "feat_frequency.show(10)"
   ]
  },
  {
   "cell_type": "code",
   "execution_count": 54,
   "metadata": {},
   "outputs": [
    {
     "name": "stdout",
     "output_type": "stream",
     "text": [
      "+-----------+-----------------+---------+--------------------+-----------------+\n",
      "|FeatureData|Feature_frequency|AVG_value|           STD_value|Feature_freq_norm|\n",
      "+-----------+-----------------+---------+--------------------+-----------------+\n",
      "|      90340|          7830889|      1.0|                 0.0|            100.0|\n",
      "|      26836|          7830889|      1.0|                 0.0|            100.0|\n",
      "|      76429|          7830889|      1.0|                 0.0|            100.0|\n",
      "|      41969|          7724763|      1.0|                 0.0|98.64477711279014|\n",
      "|      15841|          7619540|      1.0|7.167348744863059...|97.30108548339786|\n",
      "|      82561|          7343313|      1.0|                 0.0|93.77368265595388|\n",
      "|      86209|          7343312|      1.0|                 0.0|93.77366988601166|\n",
      "|      32531|          6426512|      1.0|7.172720195370208...|82.06618686588457|\n",
      "|      29264|          6173406|      1.0|                 0.0|78.83403787232842|\n",
      "|      43734|          6019379|      1.0|                 0.0|76.86712198321288|\n",
      "+-----------+-----------------+---------+--------------------+-----------------+\n",
      "only showing top 10 rows\n",
      "\n"
     ]
    }
   ],
   "source": [
    "feat_frequency= feat_frequency.withColumn('Feature_freq_norm', feat_frequency['Feature_frequency']*100/ final_n_RFI) \n",
    "feat_frequency.show(10)"
   ]
  },
  {
   "cell_type": "code",
   "execution_count": 55,
   "metadata": {},
   "outputs": [
    {
     "data": {
      "text/plain": [
       "{0.0015: 10.0,\n",
       " 0.0017: 15.0,\n",
       " 0.0019: 20.0,\n",
       " 0.0022: 25.0,\n",
       " 0.0025: 30.0,\n",
       " 0.0029: 35.0,\n",
       " 0.0034: 40.0,\n",
       " 0.004: 45.0,\n",
       " 0.0048: 50.0,\n",
       " 0.0057: 55.0,\n",
       " 0.0071: 60.0,\n",
       " 0.0089: 65.0,\n",
       " 0.0115: 70.0,\n",
       " 0.0153: 75.0,\n",
       " 0.0212: 80.0,\n",
       " 0.0325: 85.0,\n",
       " 0.0557: 90.0,\n",
       " 0.1284: 95.0}"
      ]
     },
     "execution_count": 55,
     "metadata": {},
     "output_type": "execute_result"
    }
   ],
   "source": [
    "relevant_percentiles = list(np.arange(0.1, 0.96, 0.05))\n",
    "\n",
    "\n",
    "freq_thresholds_perc = feat_frequency.approxQuantile(\"Feature_freq_norm\", relevant_percentiles, 0)\n",
    "\n",
    "rounded_thresholds = [round(tr, 4) for tr in freq_thresholds_perc]\n",
    "\n",
    "#str_percentiles = [str(round(100* perc,2)) + '%'  for perc in relevant_percentiles]\n",
    "\n",
    "dict_freq_thresholds= dict(zip(rounded_thresholds, [round(100*perc, 1) for perc in relevant_percentiles] ))\n",
    "dict_freq_thresholds"
   ]
  },
  {
   "cell_type": "code",
   "execution_count": 56,
   "metadata": {},
   "outputs": [
    {
     "data": {
      "text/plain": [
       "{116.0: 10.0,\n",
       " 131.0: 15.0,\n",
       " 149.0: 20.0,\n",
       " 171.0: 25.0,\n",
       " 196.0: 30.0,\n",
       " 226.0: 35.0,\n",
       " 265.0: 40.0,\n",
       " 315.0: 45.0,\n",
       " 374.0: 50.0,\n",
       " 450.0: 55.0,\n",
       " 557.0: 60.0,\n",
       " 700.0: 65.0,\n",
       " 899.0: 70.0,\n",
       " 1199.0: 75.0,\n",
       " 1658.0: 80.0,\n",
       " 2542.0: 85.0,\n",
       " 4361.0: 90.0,\n",
       " 10054.0: 95.0}"
      ]
     },
     "execution_count": 56,
     "metadata": {},
     "output_type": "execute_result"
    }
   ],
   "source": [
    "relevant_percentiles = list(np.arange(0.1, 0.96, 0.05))\n",
    "\n",
    "\n",
    "freq_thresholds_abs = feat_frequency.approxQuantile(\"Feature_frequency\", relevant_percentiles, 0)\n",
    "\n",
    "rounded_thresholds_abs = [round(tr, 4) for tr in freq_thresholds_abs]\n",
    "\n",
    "#str_percentiles = [str(round(100* perc,2)) + '%'  for perc in relevant_percentiles]\n",
    "\n",
    "dict_freq_thresholds_abs= dict(zip(rounded_thresholds_abs, [round(100*perc, 1) for perc in relevant_percentiles] ))\n",
    "dict_freq_thresholds_abs"
   ]
  },
  {
   "cell_type": "code",
   "execution_count": 57,
   "metadata": {},
   "outputs": [
    {
     "data": {
      "text/plain": [
       "'/home/hadoop/dsp-non-addressable-model'"
      ]
     },
     "execution_count": 57,
     "metadata": {},
     "output_type": "execute_result"
    }
   ],
   "source": [
    "pwd"
   ]
  },
  {
   "cell_type": "code",
   "execution_count": 70,
   "metadata": {},
   "outputs": [
    {
     "data": {
      "image/png": "[encoded data removed]",
      "text/plain": [
       "<Figure size 1008x576 with 1 Axes>"
      ]
     },
     "metadata": {},
     "output_type": "display_data"
    }
   ],
   "source": [
    "title_ticks_ecc('% feats removed (out of ~94k) at varying Frequency Threshold', \n",
    "                            'Frequency Threshold (% features occurrencies, or 1-sparsity)', '% Feature Removed', \n",
    "                              figsize= (14,8))\n",
    "\n",
    "plt.ylim(5, 100)\n",
    "plt.xlim(0, 0.13)\n",
    "\n",
    "pd.Series(dict_freq_thresholds).plot()\n",
    "\n",
    "plt.savefig('/home/hadoop/dsp-non-addressable-model/outputs/Frequency_based_plot.PNG', bbox_inches='tight')"
   ]
  },
  {
   "cell_type": "markdown",
   "metadata": {},
   "source": [
    "## Based on the plot, I choose 0.15% as percentage frequency threshold, corresponding to ~4000 absolute frequency"
   ]
  },
  {
   "cell_type": "code",
   "execution_count": 71,
   "metadata": {},
   "outputs": [
    {
     "data": {
      "text/plain": [
       "(4077, 5)"
      ]
     },
     "execution_count": 71,
     "metadata": {},
     "output_type": "execute_result"
    }
   ],
   "source": [
    "choosen_thresh_norm= 0.15\n",
    "\n",
    "\n",
    "preliminary_selected_feats= feat_frequency.where(col('Feature_freq_norm') > choosen_thresh_norm).toPandas() #small size\n",
    "preliminary_selected_feats.shape"
   ]
  },
  {
   "cell_type": "code",
   "execution_count": 72,
   "metadata": {},
   "outputs": [
    {
     "name": "stdout",
     "output_type": "stream",
     "text": [
      "Shape of DF with final features: \n"
     ]
    },
    {
     "data": {
      "text/html": [
       "<div>\n",
       "<style scoped>\n",
       "    .dataframe tbody tr th:only-of-type {\n",
       "        vertical-align: middle;\n",
       "    }\n",
       "\n",
       "    .dataframe tbody tr th {\n",
       "        vertical-align: top;\n",
       "    }\n",
       "\n",
       "    .dataframe thead th {\n",
       "        text-align: right;\n",
       "    }\n",
       "</style>\n",
       "<table border=\"1\" class=\"dataframe\">\n",
       "  <thead>\n",
       "    <tr style=\"text-align: right;\">\n",
       "      <th></th>\n",
       "      <th>FeatureData</th>\n",
       "      <th>Feature_frequency</th>\n",
       "      <th>AVG_value</th>\n",
       "      <th>STD_value</th>\n",
       "      <th>Feature_freq_norm</th>\n",
       "    </tr>\n",
       "  </thead>\n",
       "  <tbody>\n",
       "    <tr>\n",
       "      <th>3</th>\n",
       "      <td>41969</td>\n",
       "      <td>7724763</td>\n",
       "      <td>1.0</td>\n",
       "      <td>0.0</td>\n",
       "      <td>98.644777</td>\n",
       "    </tr>\n",
       "    <tr>\n",
       "      <th>4</th>\n",
       "      <td>15841</td>\n",
       "      <td>7619540</td>\n",
       "      <td>1.0</td>\n",
       "      <td>0.0</td>\n",
       "      <td>97.301085</td>\n",
       "    </tr>\n",
       "    <tr>\n",
       "      <th>5</th>\n",
       "      <td>82561</td>\n",
       "      <td>7343313</td>\n",
       "      <td>1.0</td>\n",
       "      <td>0.0</td>\n",
       "      <td>93.773683</td>\n",
       "    </tr>\n",
       "    <tr>\n",
       "      <th>6</th>\n",
       "      <td>86209</td>\n",
       "      <td>7343312</td>\n",
       "      <td>1.0</td>\n",
       "      <td>0.0</td>\n",
       "      <td>93.773670</td>\n",
       "    </tr>\n",
       "    <tr>\n",
       "      <th>7</th>\n",
       "      <td>32531</td>\n",
       "      <td>6426512</td>\n",
       "      <td>1.0</td>\n",
       "      <td>0.0</td>\n",
       "      <td>82.066187</td>\n",
       "    </tr>\n",
       "  </tbody>\n",
       "</table>\n",
       "</div>"
      ],
      "text/plain": [
       "  FeatureData  Feature_frequency  AVG_value  STD_value  Feature_freq_norm\n",
       "3       41969            7724763        1.0        0.0          98.644777\n",
       "4       15841            7619540        1.0        0.0          97.301085\n",
       "5       82561            7343313        1.0        0.0          93.773683\n",
       "6       86209            7343312        1.0        0.0          93.773670\n",
       "7       32531            6426512        1.0        0.0          82.066187"
      ]
     },
     "execution_count": 72,
     "metadata": {},
     "output_type": "execute_result"
    }
   ],
   "source": [
    "## Deleting those having super high frequncy and 0 standard deviation (it means they are constant, \n",
    "## if for instance they have 100% frequency and std_dev=0 )\n",
    "\n",
    "\n",
    "to_drop= list((  preliminary_selected_feats[(    \n",
    "                        preliminary_selected_feats['Feature_freq_norm'] > 99.0) & (\n",
    "                        preliminary_selected_feats['STD_value'] < 0.0001)\n",
    "                        ]).index)\n",
    "\n",
    "preliminary_selected_feats.drop(to_drop, inplace= True)\n",
    "\n",
    "\n",
    "print('Shape of DF with final features: '.format(preliminary_selected_feats.shape))\n",
    "preliminary_selected_feats.head()"
   ]
  },
  {
   "cell_type": "code",
   "execution_count": 73,
   "metadata": {},
   "outputs": [
    {
     "data": {
      "text/html": [
       "<div>\n",
       "<style scoped>\n",
       "    .dataframe tbody tr th:only-of-type {\n",
       "        vertical-align: middle;\n",
       "    }\n",
       "\n",
       "    .dataframe tbody tr th {\n",
       "        vertical-align: top;\n",
       "    }\n",
       "\n",
       "    .dataframe thead th {\n",
       "        text-align: right;\n",
       "    }\n",
       "</style>\n",
       "<table border=\"1\" class=\"dataframe\">\n",
       "  <thead>\n",
       "    <tr style=\"text-align: right;\">\n",
       "      <th></th>\n",
       "      <th>Feature_frequency</th>\n",
       "      <th>AVG_value</th>\n",
       "      <th>STD_value</th>\n",
       "      <th>Feature_freq_norm</th>\n",
       "    </tr>\n",
       "  </thead>\n",
       "  <tbody>\n",
       "    <tr>\n",
       "      <th>count</th>\n",
       "      <td>4.074000e+03</td>\n",
       "      <td>4074.000000</td>\n",
       "      <td>4074.000000</td>\n",
       "      <td>4074.000000</td>\n",
       "    </tr>\n",
       "    <tr>\n",
       "      <th>mean</th>\n",
       "      <td>1.208571e+05</td>\n",
       "      <td>0.997774</td>\n",
       "      <td>0.001256</td>\n",
       "      <td>1.543338</td>\n",
       "    </tr>\n",
       "    <tr>\n",
       "      <th>std</th>\n",
       "      <td>5.052714e+05</td>\n",
       "      <td>0.033702</td>\n",
       "      <td>0.018871</td>\n",
       "      <td>6.452287</td>\n",
       "    </tr>\n",
       "    <tr>\n",
       "      <th>min</th>\n",
       "      <td>1.174900e+04</td>\n",
       "      <td>0.342468</td>\n",
       "      <td>0.000000</td>\n",
       "      <td>0.150034</td>\n",
       "    </tr>\n",
       "    <tr>\n",
       "      <th>25%</th>\n",
       "      <td>1.631600e+04</td>\n",
       "      <td>1.000000</td>\n",
       "      <td>0.000000</td>\n",
       "      <td>0.208354</td>\n",
       "    </tr>\n",
       "    <tr>\n",
       "      <th>50%</th>\n",
       "      <td>2.530300e+04</td>\n",
       "      <td>1.000000</td>\n",
       "      <td>0.000000</td>\n",
       "      <td>0.323118</td>\n",
       "    </tr>\n",
       "    <tr>\n",
       "      <th>75%</th>\n",
       "      <td>5.164125e+04</td>\n",
       "      <td>1.000000</td>\n",
       "      <td>0.000000</td>\n",
       "      <td>0.659456</td>\n",
       "    </tr>\n",
       "    <tr>\n",
       "      <th>max</th>\n",
       "      <td>7.724763e+06</td>\n",
       "      <td>1.000000</td>\n",
       "      <td>0.295820</td>\n",
       "      <td>98.644777</td>\n",
       "    </tr>\n",
       "  </tbody>\n",
       "</table>\n",
       "</div>"
      ],
      "text/plain": [
       "       Feature_frequency    AVG_value    STD_value  Feature_freq_norm\n",
       "count       4.074000e+03  4074.000000  4074.000000        4074.000000\n",
       "mean        1.208571e+05     0.997774     0.001256           1.543338\n",
       "std         5.052714e+05     0.033702     0.018871           6.452287\n",
       "min         1.174900e+04     0.342468     0.000000           0.150034\n",
       "25%         1.631600e+04     1.000000     0.000000           0.208354\n",
       "50%         2.530300e+04     1.000000     0.000000           0.323118\n",
       "75%         5.164125e+04     1.000000     0.000000           0.659456\n",
       "max         7.724763e+06     1.000000     0.295820          98.644777"
      ]
     },
     "execution_count": 73,
     "metadata": {},
     "output_type": "execute_result"
    }
   ],
   "source": [
    "preliminary_selected_feats.describe()"
   ]
  },
  {
   "cell_type": "code",
   "execution_count": 74,
   "metadata": {},
   "outputs": [],
   "source": [
    "### Exporting as csv\n",
    "preliminary_selected_feats.to_csv(\n",
    "                '/home/hadoop/dsp-non-addressable-model/outputs/top_4000_feats.csv', index= False)"
   ]
  },
  {
   "cell_type": "markdown",
   "metadata": {},
   "source": [
    "#### Copying top features selected to S3"
   ]
  },
  {
   "cell_type": "code",
   "execution_count": 1,
   "metadata": {},
   "outputs": [
    {
     "name": "stdout",
     "output_type": "stream",
     "text": [
      "total 123516\n",
      "drwxrwxr-x 2 hadoop hadoop      4096 Jul 31 13:10 .\n",
      "drwxrwxr-x 7 hadoop hadoop      4096 Jul 31 13:33 ..\n",
      "-rw-rw-r-- 1 hadoop hadoop 126267164 Jul 31 14:25 final_1_1_mapping.csv\n",
      "-rw-rw-r-- 1 hadoop hadoop     35878 Jul 31 13:10 Frequency_based_plot.PNG\n",
      "-rw-rw-r-- 1 hadoop hadoop    166191 Jul 31 13:10 top_4000_feats.csv\n"
     ]
    }
   ],
   "source": [
    "!ls -la '/home/hadoop/dsp-non-addressable-model/outputs'"
   ]
  },
  {
   "cell_type": "code",
   "execution_count": 2,
   "metadata": {},
   "outputs": [
    {
     "name": "stdout",
     "output_type": "stream",
     "text": [
      "upload: ../outputs/top_4000_feats.csv to s3://gdsa-prague/dsp_LAL/outputs/top_4000_feats.csv\n"
     ]
    }
   ],
   "source": [
    "!aws s3 cp /home/hadoop/dsp-non-addressable-model/outputs/top_4000_feats.csv s3://gdsa-prague/dsp_LAL/outputs/"
   ]
  },
  {
   "cell_type": "code",
   "execution_count": 3,
   "metadata": {},
   "outputs": [],
   "source": [
    "!rm /home/hadoop/dsp-non-addressable-model/outputs/top_4000_feats.csv"
   ]
  },
  {
   "cell_type": "code",
   "execution_count": null,
   "metadata": {},
   "outputs": [],
   "source": []
  }
 ],
 "metadata": {
  "kernelspec": {
   "display_name": "Python 3",
   "language": "python",
   "name": "python3"
  },
  "language_info": {
   "codemirror_mode": {
    "name": "ipython",
    "version": 3
   },
   "file_extension": ".py",
   "mimetype": "text/x-python",
   "name": "python",
   "nbconvert_exporter": "python",
   "pygments_lexer": "ipython3",
   "version": "3.6.11"
  }
 },
 "nbformat": 4,
 "nbformat_minor": 4
}
